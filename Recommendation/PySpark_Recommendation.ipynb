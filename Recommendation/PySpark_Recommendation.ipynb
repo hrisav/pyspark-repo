{
  "nbformat": 4,
  "nbformat_minor": 0,
  "metadata": {
    "colab": {
      "name": "PySpark_Recommendation.ipynb",
      "provenance": []
    },
    "kernelspec": {
      "name": "python3",
      "display_name": "Python 3"
    },
    "language_info": {
      "name": "python"
    }
  },
  "cells": [
    {
      "cell_type": "markdown",
      "metadata": {
        "id": "OmqyA3baQFEd"
      },
      "source": [
        "## Problem\n",
        "\n",
        "a) Predict what ratings users might have rated for movies\n",
        "\n",
        "b) Recommend user 10 top movies to watch."
      ]
    },
    {
      "cell_type": "code",
      "metadata": {
        "colab": {
          "base_uri": "https://localhost:8080/"
        },
        "id": "HljnsOK0OhQS",
        "outputId": "e713f3cb-ee03-41c5-a9d1-f4d6dbdb932a"
      },
      "source": [
        "!pip install pyspark"
      ],
      "execution_count": 1,
      "outputs": [
        {
          "output_type": "stream",
          "name": "stdout",
          "text": [
            "Collecting pyspark\n",
            "  Downloading pyspark-3.1.2.tar.gz (212.4 MB)\n",
            "\u001b[K     |████████████████████████████████| 212.4 MB 62 kB/s \n",
            "\u001b[?25hCollecting py4j==0.10.9\n",
            "  Downloading py4j-0.10.9-py2.py3-none-any.whl (198 kB)\n",
            "\u001b[K     |████████████████████████████████| 198 kB 50.5 MB/s \n",
            "\u001b[?25hBuilding wheels for collected packages: pyspark\n",
            "  Building wheel for pyspark (setup.py) ... \u001b[?25l\u001b[?25hdone\n",
            "  Created wheel for pyspark: filename=pyspark-3.1.2-py2.py3-none-any.whl size=212880768 sha256=3eaa4258b6c73a8fedd72f23df85f493a21626c23546aec870bb19be432569dd\n",
            "  Stored in directory: /root/.cache/pip/wheels/a5/0a/c1/9561f6fecb759579a7d863dcd846daaa95f598744e71b02c77\n",
            "Successfully built pyspark\n",
            "Installing collected packages: py4j, pyspark\n",
            "Successfully installed py4j-0.10.9 pyspark-3.1.2\n"
          ]
        }
      ]
    },
    {
      "cell_type": "code",
      "metadata": {
        "colab": {
          "base_uri": "https://localhost:8080/",
          "height": 193
        },
        "id": "5H62uOdJQVsK",
        "outputId": "dff60cf8-1486-477a-bf8d-e3b12dcfcfb3"
      },
      "source": [
        "from pyspark.sql import SparkSession\n",
        "spark = SparkSession.builder.appName('recommender').getOrCreate()\n",
        "sc = spark.sparkContext\n",
        "sc"
      ],
      "execution_count": 8,
      "outputs": [
        {
          "output_type": "execute_result",
          "data": {
            "text/html": [
              "\n",
              "        <div>\n",
              "            <p><b>SparkContext</b></p>\n",
              "\n",
              "            <p><a href=\"http://e5d550741bd3:4040\">Spark UI</a></p>\n",
              "\n",
              "            <dl>\n",
              "              <dt>Version</dt>\n",
              "                <dd><code>v3.1.2</code></dd>\n",
              "              <dt>Master</dt>\n",
              "                <dd><code>local[*]</code></dd>\n",
              "              <dt>AppName</dt>\n",
              "                <dd><code>hacked</code></dd>\n",
              "            </dl>\n",
              "        </div>\n",
              "        "
            ],
            "text/plain": [
              "<SparkContext master=local[*] appName=hacked>"
            ]
          },
          "metadata": {},
          "execution_count": 8
        }
      ]
    },
    {
      "cell_type": "code",
      "metadata": {
        "colab": {
          "base_uri": "https://localhost:8080/"
        },
        "id": "NA8hTGHpQ4Kq",
        "outputId": "2d56b3df-4260-4143-8487-f4772b653a14"
      },
      "source": [
        "df = spark.read.csv('movielens_ratings.csv', inferSchema = True, header = True)\n",
        "df.printSchema()"
      ],
      "execution_count": 9,
      "outputs": [
        {
          "output_type": "stream",
          "name": "stdout",
          "text": [
            "root\n",
            " |-- movieId: integer (nullable = true)\n",
            " |-- rating: double (nullable = true)\n",
            " |-- userId: integer (nullable = true)\n",
            "\n"
          ]
        }
      ]
    },
    {
      "cell_type": "code",
      "metadata": {
        "colab": {
          "base_uri": "https://localhost:8080/"
        },
        "id": "J7eTopJpRlwM",
        "outputId": "c4e57e5c-7989-4c72-fc5e-25ac8761de5f"
      },
      "source": [
        "df.show(10)"
      ],
      "execution_count": 10,
      "outputs": [
        {
          "output_type": "stream",
          "name": "stdout",
          "text": [
            "+-------+------+------+\n",
            "|movieId|rating|userId|\n",
            "+-------+------+------+\n",
            "|      2|   3.0|     0|\n",
            "|      3|   1.0|     0|\n",
            "|      5|   2.0|     0|\n",
            "|      9|   4.0|     0|\n",
            "|     11|   1.0|     0|\n",
            "|     12|   2.0|     0|\n",
            "|     15|   1.0|     0|\n",
            "|     17|   1.0|     0|\n",
            "|     19|   1.0|     0|\n",
            "|     21|   1.0|     0|\n",
            "+-------+------+------+\n",
            "only showing top 10 rows\n",
            "\n"
          ]
        }
      ]
    },
    {
      "cell_type": "code",
      "metadata": {
        "colab": {
          "base_uri": "https://localhost:8080/"
        },
        "id": "YZMuFhN5RpIe",
        "outputId": "da2f6e96-d726-4819-81c9-0061d1d45416"
      },
      "source": [
        "df.describe().show()"
      ],
      "execution_count": 11,
      "outputs": [
        {
          "output_type": "stream",
          "name": "stdout",
          "text": [
            "+-------+------------------+------------------+------------------+\n",
            "|summary|           movieId|            rating|            userId|\n",
            "+-------+------------------+------------------+------------------+\n",
            "|  count|              1501|              1501|              1501|\n",
            "|   mean| 49.40572951365756|1.7741505662891406|14.383744170552964|\n",
            "| stddev|28.937034065088994| 1.187276166124803| 8.591040424293272|\n",
            "|    min|                 0|               1.0|                 0|\n",
            "|    max|                99|               5.0|                29|\n",
            "+-------+------------------+------------------+------------------+\n",
            "\n"
          ]
        }
      ]
    },
    {
      "cell_type": "code",
      "metadata": {
        "colab": {
          "base_uri": "https://localhost:8080/"
        },
        "id": "PB-RMUd5R5Ft",
        "outputId": "a90fc66f-adca-421d-e309-ec6394af0799"
      },
      "source": [
        "df.groupBy('rating').count().show()"
      ],
      "execution_count": 12,
      "outputs": [
        {
          "output_type": "stream",
          "name": "stdout",
          "text": [
            "+------+-----+\n",
            "|rating|count|\n",
            "+------+-----+\n",
            "|   1.0|  941|\n",
            "|   4.0|   99|\n",
            "|   3.0|  179|\n",
            "|   2.0|  207|\n",
            "|   5.0|   75|\n",
            "+------+-----+\n",
            "\n"
          ]
        }
      ]
    },
    {
      "cell_type": "code",
      "metadata": {
        "colab": {
          "base_uri": "https://localhost:8080/"
        },
        "id": "4tiOygRTTjQK",
        "outputId": "7e778d18-db4a-4c38-d4b3-ca128f2b9dee"
      },
      "source": [
        "df.groupBy('userId').count().show()"
      ],
      "execution_count": 24,
      "outputs": [
        {
          "output_type": "stream",
          "name": "stdout",
          "text": [
            "+------+-----+\n",
            "|userId|count|\n",
            "+------+-----+\n",
            "|    28|   50|\n",
            "|    26|   49|\n",
            "|    27|   46|\n",
            "|    12|   55|\n",
            "|    22|   56|\n",
            "|     1|   49|\n",
            "|    13|   48|\n",
            "|     6|   57|\n",
            "|    16|   45|\n",
            "|     3|   48|\n",
            "|    20|   47|\n",
            "|     5|   49|\n",
            "|    19|   49|\n",
            "|    15|   48|\n",
            "|     9|   53|\n",
            "|    17|   46|\n",
            "|     4|   55|\n",
            "|     8|   49|\n",
            "|    23|   52|\n",
            "|     7|   54|\n",
            "+------+-----+\n",
            "only showing top 20 rows\n",
            "\n"
          ]
        }
      ]
    },
    {
      "cell_type": "code",
      "metadata": {
        "colab": {
          "base_uri": "https://localhost:8080/"
        },
        "id": "F0sucsViR92W",
        "outputId": "6f29d373-6f65-4293-abc8-fccc02903be1"
      },
      "source": [
        "train_data, test_data  = df.randomSplit([0.8, 0.2], 20)\n",
        "\n",
        "print(\"Records for training: \" + str(train_data.count()))\n",
        "print(\"Records for evaluation: \" + str(test_data.count()))"
      ],
      "execution_count": 15,
      "outputs": [
        {
          "output_type": "stream",
          "name": "stdout",
          "text": [
            "Records for training: 1188\n",
            "Records for evaluation: 313\n"
          ]
        }
      ]
    },
    {
      "cell_type": "code",
      "metadata": {
        "id": "ZFhN0dVJTN8j"
      },
      "source": [
        "from pyspark.ml.recommendation import ALS"
      ],
      "execution_count": 19,
      "outputs": []
    },
    {
      "cell_type": "code",
      "metadata": {
        "id": "f6kEOl3yS5Oo"
      },
      "source": [
        "als = ALS(maxIter=5, regParam=0.01, userCol=\"userId\", itemCol=\"movieId\", ratingCol=\"rating\")"
      ],
      "execution_count": 20,
      "outputs": []
    },
    {
      "cell_type": "code",
      "metadata": {
        "id": "1FD96S9iTLc3"
      },
      "source": [
        "model = als.fit(train_data)"
      ],
      "execution_count": 21,
      "outputs": []
    },
    {
      "cell_type": "code",
      "metadata": {
        "id": "0WjCnGq8TItx"
      },
      "source": [
        "predictions = model.transform(test_data)"
      ],
      "execution_count": 22,
      "outputs": []
    },
    {
      "cell_type": "code",
      "metadata": {
        "colab": {
          "base_uri": "https://localhost:8080/"
        },
        "id": "Otj2QvdJTNFu",
        "outputId": "c4f94197-c1f4-4148-9727-7fb0e5ea24b9"
      },
      "source": [
        "predictions.show()"
      ],
      "execution_count": 23,
      "outputs": [
        {
          "output_type": "stream",
          "name": "stdout",
          "text": [
            "+-------+------+------+-----------+\n",
            "|movieId|rating|userId| prediction|\n",
            "+-------+------+------+-----------+\n",
            "|     31|   1.0|    26| 0.70589715|\n",
            "|     31|   1.0|     5|  3.7538288|\n",
            "|     31|   1.0|    24|  1.4627191|\n",
            "|     85|   3.0|    21|  2.5371575|\n",
            "|     65|   1.0|    19|  1.0504794|\n",
            "|     65|   5.0|    23|  0.4818818|\n",
            "|     65|   1.0|    24| 0.79530156|\n",
            "|     53|   3.0|    20|  2.1144269|\n",
            "|     53|   5.0|     8|  3.1592326|\n",
            "|     78|   1.0|    13|  0.6788278|\n",
            "|     78|   1.0|    20|  0.4729411|\n",
            "|     78|   1.0|    17| 0.91470456|\n",
            "|     34|   1.0|    28| -2.0583692|\n",
            "|     34|   1.0|    19|  0.6273526|\n",
            "|     34|   1.0|    17| 0.09805626|\n",
            "|     81|   3.0|    26|  3.4195998|\n",
            "|     81|   1.0|    22|-0.84257275|\n",
            "|     81|   1.0|     6|  1.7715576|\n",
            "|     81|   1.0|    19|  0.4393794|\n",
            "|     28|   1.0|    27|  3.3084912|\n",
            "+-------+------+------+-----------+\n",
            "only showing top 20 rows\n",
            "\n"
          ]
        }
      ]
    },
    {
      "cell_type": "code",
      "metadata": {
        "id": "8wYZDq4XTw_p"
      },
      "source": [
        "from pyspark.ml.evaluation import RegressionEvaluator"
      ],
      "execution_count": 26,
      "outputs": []
    },
    {
      "cell_type": "code",
      "metadata": {
        "colab": {
          "base_uri": "https://localhost:8080/"
        },
        "id": "VkN8dbl5TU0L",
        "outputId": "4efd19c6-9bc7-44d4-d6e7-7dd1f874fc39"
      },
      "source": [
        "evaluator = RegressionEvaluator(metricName=\"rmse\", labelCol=\"rating\", predictionCol=\"prediction\")\n",
        "rmse = evaluator.evaluate(predictions)\n",
        "\n",
        "print(\"Root-mean-square error = \" + str(rmse))"
      ],
      "execution_count": 27,
      "outputs": [
        {
          "output_type": "stream",
          "name": "stdout",
          "text": [
            "Root-mean-square error = 1.6717573971385071\n"
          ]
        }
      ]
    },
    {
      "cell_type": "code",
      "metadata": {
        "id": "43NVdFsGTv5X"
      },
      "source": [
        "single_user = test_data.filter(test_data['userId']==10).select(['movieId','userId'])\n",
        "\n",
        "# movies that user 10 saw in test data"
      ],
      "execution_count": 29,
      "outputs": []
    },
    {
      "cell_type": "code",
      "metadata": {
        "colab": {
          "base_uri": "https://localhost:8080/"
        },
        "id": "kJg1FJ0CT7uD",
        "outputId": "87b846e1-a952-45e6-a2e6-525ec924c2c8"
      },
      "source": [
        "single_user.show()"
      ],
      "execution_count": 30,
      "outputs": [
        {
          "output_type": "stream",
          "name": "stdout",
          "text": [
            "+-------+------+\n",
            "|movieId|userId|\n",
            "+-------+------+\n",
            "|      2|    10|\n",
            "|     10|    10|\n",
            "|     13|    10|\n",
            "|     16|    10|\n",
            "|     17|    10|\n",
            "|     28|    10|\n",
            "|     35|    10|\n",
            "|     41|    10|\n",
            "|     43|    10|\n",
            "|     56|    10|\n",
            "|     66|    10|\n",
            "|     67|    10|\n",
            "|     89|    10|\n",
            "+-------+------+\n",
            "\n"
          ]
        }
      ]
    },
    {
      "cell_type": "code",
      "metadata": {
        "id": "tjnYz3qoUANn"
      },
      "source": [
        "recommendations = model.transform(single_user)"
      ],
      "execution_count": 32,
      "outputs": []
    },
    {
      "cell_type": "code",
      "metadata": {
        "colab": {
          "base_uri": "https://localhost:8080/"
        },
        "id": "9L09JYRdUFOG",
        "outputId": "1119d382-8340-40b8-c8a3-27ff787ac2c4"
      },
      "source": [
        "recommendations.orderBy('prediction', ascending=False).show()"
      ],
      "execution_count": 33,
      "outputs": [
        {
          "output_type": "stream",
          "name": "stdout",
          "text": [
            "+-------+------+-----------+\n",
            "|movieId|userId| prediction|\n",
            "+-------+------+-----------+\n",
            "|     89|    10|  3.3979173|\n",
            "|     41|    10|  2.9436579|\n",
            "|     43|    10|  2.5312998|\n",
            "|     13|    10|  2.1199603|\n",
            "|      2|    10|  1.9320009|\n",
            "|     67|    10|  1.7676947|\n",
            "|     56|    10|  1.1662536|\n",
            "|     16|    10|  1.1338801|\n",
            "|     35|    10|  1.1091353|\n",
            "|     66|    10|  0.8162328|\n",
            "|     17|    10| 0.38492316|\n",
            "|     28|    10|-0.13626468|\n",
            "|     10|    10| -0.6826315|\n",
            "+-------+------+-----------+\n",
            "\n"
          ]
        }
      ]
    }
  ]
}